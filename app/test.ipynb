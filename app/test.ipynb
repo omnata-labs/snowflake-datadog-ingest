{
 "cells": [
  {
   "cell_type": "code",
   "execution_count": 1,
   "metadata": {},
   "outputs": [],
   "source": [
    "from datadog_proto.agent_payload_pb2 import AgentPayload\n",
    "from datadog_proto.tracer_payload_pb2 import TracerPayload, TraceChunk\n",
    "from datadog_proto.span_pb2 import Span\n",
    "import time\n",
    "import uuid\n",
    "tracer_payload = TracerPayload()\n",
    "#tracer_payload.container_i_d = \"835a9719-1797-400d-acb9-c8090ea7a487\" #uuid.uuid4().urn.removeprefix(\"urn:uuid:\")\n",
    "#tracer_payload.language_name = \"python\"\n",
    "#tracer_payload.language_version = \"3.10.9\"\n",
    "#tracer_payload.tracer_version = \"2.17.0\"\n",
    "tracer_payload.env = \"test\"\n",
    "tracer_payload.appVersion = \"1\"\n",
    "\n",
    "tracer_payload.chunks.append(TraceChunk(\n",
    "    spans=[Span(\n",
    "        service=\"profiler\",\n",
    "        name=\"internal\",\n",
    "        resource=\"operation_name\",\n",
    "        traceID=8173761471953980020,\n",
    "        spanID=1247783097857670750,\n",
    "        start=time.time_ns(), # current time in nanoseconds\n",
    "        duration=1000000000, # 1 second\n",
    "        type=\"test_type\",\n",
    "        error=0,\n",
    "        meta={\n",
    "            \"test_key\": \"test_value\",\n",
    "            \"language\": \"python\",\n",
    "            \"_dd.p.dm\": \"-0\",\n",
    "            \"version\": \"1\",\n",
    "            \"env\": \"test\",\n",
    "            \"_dd.injection.mode\": \"host\",\n",
    "            \"runtime-id\": \"bibbfd20d39748b0bea05686bc6e5d9e\",\n",
    "            \"events\": \"[{\\\"name\\\":\\\"test_event\\\",\\\"time\\\":1234}]\",\n",
    "        },\n",
    "        metrics={\n",
    "            \"_dd.top_level\": time.time_ns(),\n",
    "            \"_top_level\": time.time_ns(),\n",
    "            \"_dd.tracer_kr\": time.time_ns()\n",
    "        },\n",
    "        )],\n",
    "    tags={\n",
    "        \"_dd.p.dm\": \"-0\",\n",
    "    },\n",
    "    priority=1\n",
    "))\n",
    "\n",
    "\n",
    "agent_payload = AgentPayload(tracerPayloads = [tracer_payload])\n",
    "agent_payload.hostName = \"James-XPS\"\n",
    "agent_payload.agentVersion = \"7.59.0\"\n",
    "agent_payload.targetTPS = 4621819117588971521\n",
    "agent_payload.errorTPS = 4621819117588971521\n",
    "\n",
    "import requests\n",
    "import os\n",
    "url = \"https://trace.agent.us3.datadoghq.com/api/v0.2/traces\"\n",
    "headers = {\n",
    "    \"Dd-Api-Key\": \"bc975b0f395f5f3bd467e26a02e9e2f1\",\n",
    "    \"Content-Type\": \"application/x-protobuf\",\n",
    "    \"X-Datadog-Reported-Languages\": \"python\",\n",
    "    \"User-Agent\": \"Datadog Trace Agent/7.59.0\",\n",
    "}\n",
    "agent_payload_serialized = agent_payload.SerializeToString()\n",
    "\n",
    "response = requests.post(url, headers=headers, data=agent_payload_serialized)\n",
    "\n",
    "#print(agent_payload.SerializeToString())\n"
   ]
  },
  {
   "cell_type": "code",
   "execution_count": 2,
   "metadata": {},
   "outputs": [
    {
     "data": {
      "text/plain": [
       "'{}'"
      ]
     },
     "execution_count": 2,
     "metadata": {},
     "output_type": "execute_result"
    }
   ],
   "source": [
    "response.text"
   ]
  },
  {
   "cell_type": "code",
   "execution_count": null,
   "metadata": {},
   "outputs": [
    {
     "ename": "TypeError",
     "evalue": "int() can't convert non-string with explicit base",
     "output_type": "error",
     "traceback": [
      "\u001b[0;31m---------------------------------------------------------------------------\u001b[0m",
      "\u001b[0;31mTypeError\u001b[0m                                 Traceback (most recent call last)",
      "Cell \u001b[0;32mIn[5], line 1\u001b[0m\n\u001b[0;32m----> 1\u001b[0m \u001b[38;5;28;43mint\u001b[39;49m\u001b[43m(\u001b[49m\u001b[38;5;241;43m0\u001b[39;49m\u001b[43m,\u001b[49m\u001b[43m \u001b[49m\u001b[38;5;241;43m16\u001b[39;49m\u001b[43m)\u001b[49m\n",
      "\u001b[0;31mTypeError\u001b[0m: int() can't convert non-string with explicit base"
     ]
    }
   ],
   "source": []
  }
 ],
 "metadata": {
  "kernelspec": {
   "display_name": "Python 3",
   "language": "python",
   "name": "python3"
  },
  "language_info": {
   "codemirror_mode": {
    "name": "ipython",
    "version": 3
   },
   "file_extension": ".py",
   "mimetype": "text/x-python",
   "name": "python",
   "nbconvert_exporter": "python",
   "pygments_lexer": "ipython3",
   "version": "3.10.15"
  }
 },
 "nbformat": 4,
 "nbformat_minor": 2
}
